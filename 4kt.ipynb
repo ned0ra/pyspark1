{
 "cells": [
  {
   "cell_type": "code",
   "execution_count": null,
   "id": "a80f9d5a-7f46-40fa-8622-9762fc169afa",
   "metadata": {},
   "outputs": [],
   "source": [
    "from pyspark.sql import SparkSession\n",
    "spark = SparkSession.builder.getOrCreate()"
   ]
  },
  {
   "cell_type": "code",
   "execution_count": null,
   "id": "6096a467-7a4a-45f3-955d-058e04fa55ce",
   "metadata": {},
   "outputs": [],
   "source": [
    "df = spark.read.option(\"header\", True).csv('data/vgsales.csv')\n",
    "df.show()"
   ]
  },
  {
   "cell_type": "code",
   "execution_count": null,
   "id": "3d044483-c656-4e5f-8393-ab050a5f3e24",
   "metadata": {},
   "outputs": [],
   "source": [
    "from pyspark.sql.functions import col, sum, round\n",
    "import pyspark.sql.functions as func\n",
    "from pyspark.sql.window import Window"
   ]
  },
  {
   "cell_type": "code",
   "execution_count": null,
   "id": "2e5b577a-8642-4f9f-b4dd-2ac9e7b6a2e3",
   "metadata": {},
   "outputs": [],
   "source": [
    "df = df.withColumn('Sales_per_year', sum('Global_Sales').over(Window.partitionBy('Year')))\n",
    "df = df.withColumn('Sales_per_year', df['Sales_per_year'].cast('float'))\n",
    "df = df.select('*',round('Sales_per_year',2))\n",
    "df = df.drop('Sales_per_year')\n",
    "df.show()"
   ]
  },
  {
   "cell_type": "code",
   "execution_count": null,
   "id": "63d16816-0391-4cff-b9ce-e831e401c439",
   "metadata": {},
   "outputs": [],
   "source": [
    "df = df.withColumn('Sales_year_platform_NA', sum('NA_Sales').over(Window.partitionBy('Year','Platform')))\n",
    "df = df.withColumn('Sales_year_platform_NA', df['Sales_year_platform_NA'].cast('float'))\n",
    "df = df.select('*',round('Sales_year_platform_NA',2))\n",
    "df = df.drop('Sales_year_platform_NA')\n",
    "\n",
    "df.show()"
   ]
  },
  {
   "cell_type": "code",
   "execution_count": null,
   "id": "c7ef3af6-4d39-41b0-8f55-b592fca365a2",
   "metadata": {},
   "outputs": [],
   "source": [
    "df = df.withColumn('Sales_year_platform_EU', sum('EU_Sales').over(Window.partitionBy('Year','Platform')))\n",
    "df = df.withColumn('Sales_year_platform_EU', df['Sales_year_platform_EU'].cast('float'))\n",
    "df = df.select('*',round('Sales_year_platform_EU',2))\n",
    "df = df.drop('Sales_year_platform_EU')"
   ]
  },
  {
   "cell_type": "code",
   "execution_count": null,
   "id": "958fd655-23b1-4794-8516-e5e025e50c3b",
   "metadata": {},
   "outputs": [],
   "source": [
    "df = df.withColumn('Sales_year_platform_JP', sum('JP_Sales').over(Window.partitionBy('Year','Platform')))\n",
    "df = df.withColumn('Sales_year_platform_JP', df['Sales_year_platform_JP'].cast('float'))\n",
    "df = df.select('*',round('Sales_year_platform_JP',2))\n",
    "df = df.drop('Sales_year_platform_JP')"
   ]
  },
  {
   "cell_type": "code",
   "execution_count": null,
   "id": "15839287-315d-4108-8ea4-cd50a2d18261",
   "metadata": {},
   "outputs": [],
   "source": [
    "df = df.withColumn('Sales_year_platform_Other', sum('Other_Sales').over(Window.partitionBy('Year','Platform')))\n",
    "df = df.withColumn('Sales_year_platform_Other', df['Sales_year_platform_Other'].cast('float'))\n",
    "df = df.select('*',round('Sales_year_platform_Other',2))\n",
    "df = df.drop('Sales_year_platform_Other')"
   ]
  },
  {
   "cell_type": "code",
   "execution_count": null,
   "id": "ff68bc76-ab19-4de3-bd9c-2ff170a4d831",
   "metadata": {},
   "outputs": [],
   "source": [
    "df = df.withColumn('Percent_publisher_NA', col('NA_Sales')/sum(col('NA_Sales')).over(Window.partitionBy('Year','Platform')))\n",
    "df = df.withColumn('Percent_publisher_NA', df['Percent_publisher_NA'].cast('float'))\n",
    "df = df.select('*',round('Percent_publisher_NA',2))\n",
    "df = df.drop('Percent_publisher_NA')"
   ]
  },
  {
   "cell_type": "code",
   "execution_count": null,
   "id": "6491f6c5-e7f7-412b-ad13-ac450cfaa00b",
   "metadata": {},
   "outputs": [],
   "source": [
    "df = df.withColumn('Percent_publisher_EU', col('EU_Sales')/sum(col('EU_Sales')).over(Window.partitionBy('Year','Platform')))\n",
    "df = df.withColumn('Percent_publisher_EU', df['Percent_publisher_EU'].cast('float'))\n",
    "df = df.select('*',round('Percent_publisher_EU',2))\n",
    "df = df.drop('Percent_publisher_EU')"
   ]
  },
  {
   "cell_type": "code",
   "execution_count": null,
   "id": "7b723d76-5a8d-4e94-8db2-8493ad86e986",
   "metadata": {},
   "outputs": [],
   "source": [
    "df = df.withColumn('Percent_publisher_JP', col('JP_Sales')/sum(col('JP_Sales')).over(Window.partitionBy('Year','Platform')))\n",
    "df = df.withColumn('Percent_publisher_JP', df['Percent_publisher_JP'].cast('float'))\n",
    "df = df.select('*',round('Percent_publisher_JP',2))\n",
    "df = df.drop('Percent_publisher_JP')"
   ]
  },
  {
   "cell_type": "code",
   "execution_count": null,
   "id": "c826f6d9-8870-45f8-9f62-1947e2705256",
   "metadata": {},
   "outputs": [],
   "source": [
    "df = df.withColumn('Percent_publisher_Other', col('Other_Sales')/sum(col('Other_Sales')).over(Window.partitionBy('Year','Platform')))\n",
    "df = df.withColumn('Percent_publisher_Other', df['Percent_publisher_Other'].cast('float'))\n",
    "df = df.select('*',round('Percent_publisher_Other',2))\n",
    "df = df.drop('Percent_publisher_Other')"
   ]
  },
  {
   "cell_type": "code",
   "execution_count": null,
   "id": "57e6037c-d1bf-4ace-b95d-1064d7f72dea",
   "metadata": {},
   "outputs": [],
   "source": [
    "df = df.withColumn('Percent_publisher', col('Global_Sales')/sum(col('Global_Sales')).over(Window.partitionBy('Publisher')))\n",
    "df = df.withColumn('Percent_publisher', df['Percent_publisher'].cast('float'))\n",
    "df = df.select('*',round('Percent_publisher',2))\n",
    "df = df.drop('Percent_publisher')"
   ]
  },
  {
   "cell_type": "code",
   "execution_count": null,
   "id": "971d3c2e-a8ec-4fd2-8b8e-eaaaf2bcc94b",
   "metadata": {},
   "outputs": [],
   "source": [
    "df = df.withColumn('Game_sales', sum('Global_Sales').over(Window.partitionBy('Year')))\n",
    "df = df.withColumn('Game_sales', df['Game_sales'].cast('float'))\n",
    "df = df.select('*',round('Game_sales',2))\n",
    "df = df.drop('Game_sales')"
   ]
  },
  {
   "cell_type": "code",
   "execution_count": null,
   "id": "8efa1a49-a2b4-4196-a0fe-87133285cf01",
   "metadata": {},
   "outputs": [],
   "source": [
    "df.printSchema()"
   ]
  },
  {
   "cell_type": "code",
   "execution_count": null,
   "id": "f3a31b0b-6ee0-4c74-8215-f5622be40c78",
   "metadata": {},
   "outputs": [],
   "source": [
    "df.show()"
   ]
  },
  {
   "cell_type": "code",
   "execution_count": null,
   "id": "ac5db64c-b9c3-4ea6-8d4d-4d1bd1ef547a",
   "metadata": {},
   "outputs": [],
   "source": [
    "df.write.csv('sales.csv', header=True)\n",
    "df.write.parquet('sales.parquet')"
   ]
  }
 ],
 "metadata": {
  "kernelspec": {
   "display_name": "Python 3 (ipykernel)",
   "language": "python",
   "name": "python3"
  },
  "language_info": {
   "codemirror_mode": {
    "name": "ipython",
    "version": 3
   },
   "file_extension": ".py",
   "mimetype": "text/x-python",
   "name": "python",
   "nbconvert_exporter": "python",
   "pygments_lexer": "ipython3",
   "version": "3.11.6"
  }
 },
 "nbformat": 4,
 "nbformat_minor": 5
}
